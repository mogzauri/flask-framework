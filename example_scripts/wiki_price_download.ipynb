{
 "cells": [
  {
   "cell_type": "markdown",
   "metadata": {},
   "source": [
    "## Wiki Price Download via API\n",
    "\n",
    "#### Author: Ryan Gan\n",
    "\n",
    "#### Date Created:  2018-06-10\n",
    "\n",
    "Downloading stock ticker closing price data for the last month from the Wiki price dataset on Quandl site. I am going to use the python requests pacakge."
   ]
  },
  {
   "cell_type": "code",
   "execution_count": 2,
   "metadata": {},
   "outputs": [],
   "source": [
    "# import requests package\n",
    "import requests\n",
    "# http authentication\n",
    "from requests.auth import HTTPBasicAuth\n",
    "# import json\n",
    "import simplejson as json\n",
    "# import pandas\n",
    "import pandas as pd\n",
    "# import pandas io json to normalize json files\n",
    "from pandas.io.json import json_normalize\n",
    "# import config for api_key\n",
    "import config"
   ]
  },
  {
   "cell_type": "markdown",
   "metadata": {},
   "source": [
    "### Setting up API request for Wiki json file\n",
    "\n",
    "Setting up API request for WIKI prices from May 1<sup>st</sup> 2018 to June 10<sup>th</sup> 2018."
   ]
  },
  {
   "cell_type": "code",
   "execution_count": 3,
   "metadata": {
    "collapsed": true
   },
   "outputs": [],
   "source": [
    "url_api = ('https://www.quandl.com/api/v3/datatables/WIKI/PRICES.json?' +\n",
    "           '&date.gte=2017-05-01&date.lte=2017-05-31&api_key=' + config.api_key)"
   ]
  },
  {
   "cell_type": "markdown",
   "metadata": {},
   "source": [
    "Sending request for Wiki price data. I'm looking for outcome status code of 200, which means download was okay."
   ]
  },
  {
   "cell_type": "code",
   "execution_count": 4,
   "metadata": {},
   "outputs": [
    {
     "name": "stdout",
     "output_type": "stream",
     "text": [
      "200\n"
     ]
    }
   ],
   "source": [
    "# send request\n",
    "r = requests.get(url_api)\n",
    "# print status\n",
    "print(r.status_code)"
   ]
  },
  {
   "cell_type": "markdown",
   "metadata": {},
   "source": [
    "View file type."
   ]
  },
  {
   "cell_type": "code",
   "execution_count": 5,
   "metadata": {},
   "outputs": [
    {
     "data": {
      "text/plain": [
       "'application/json; charset=utf-8'"
      ]
     },
     "execution_count": 5,
     "metadata": {},
     "output_type": "execute_result"
    }
   ],
   "source": [
    "r.headers['content-type']"
   ]
  },
  {
   "cell_type": "markdown",
   "metadata": {},
   "source": [
    "Parse the url request to a jason file."
   ]
  },
  {
   "cell_type": "code",
   "execution_count": 6,
   "metadata": {
    "collapsed": true
   },
   "outputs": [],
   "source": [
    "# parse url request to json\n",
    "j = r.json()\n",
    "# pretty print json; suppressed print because it's a lot of lines\n",
    "#print(json.dumps(j, indent=2, sort_keys=True))"
   ]
  },
  {
   "cell_type": "markdown",
   "metadata": {},
   "source": [
    "### Converting json to pandas dataframe\n",
    "\n",
    "To convert json file to pandas dataframe I need to get a couple things out of the nested json file. First I'm going to pull out the string list of variables using the 'json_normalize' function from the pandas package."
   ]
  },
  {
   "cell_type": "code",
   "execution_count": 7,
   "metadata": {
    "scrolled": true
   },
   "outputs": [
    {
     "name": "stdout",
     "output_type": "stream",
     "text": [
      "0          ticker\n",
      "1            date\n",
      "2            open\n",
      "3            high\n",
      "4             low\n",
      "5           close\n",
      "6          volume\n",
      "7     ex-dividend\n",
      "8     split_ratio\n",
      "9        adj_open\n",
      "10       adj_high\n",
      "11        adj_low\n",
      "12      adj_close\n",
      "13     adj_volume\n",
      "Name: name, dtype: object\n"
     ]
    }
   ],
   "source": [
    "# use json normalize to access the datatable, and columns, and output a vector of the variable names\n",
    "col_names = json_normalize(j['datatable'], 'columns')['name']\n",
    "# print col_names\n",
    "print(col_names)"
   ]
  },
  {
   "cell_type": "markdown",
   "metadata": {},
   "source": [
    "Now that I have a list of column names, I'm going to extract the data values from the table using the same 'json_normalize' function."
   ]
  },
  {
   "cell_type": "code",
   "execution_count": 8,
   "metadata": {},
   "outputs": [
    {
     "data": {
      "text/html": [
       "<div>\n",
       "<style>\n",
       "    .dataframe thead tr:only-child th {\n",
       "        text-align: right;\n",
       "    }\n",
       "\n",
       "    .dataframe thead th {\n",
       "        text-align: left;\n",
       "    }\n",
       "\n",
       "    .dataframe tbody tr th {\n",
       "        vertical-align: top;\n",
       "    }\n",
       "</style>\n",
       "<table border=\"1\" class=\"dataframe\">\n",
       "  <thead>\n",
       "    <tr style=\"text-align: right;\">\n",
       "      <th>name</th>\n",
       "      <th>ticker</th>\n",
       "      <th>date</th>\n",
       "      <th>open</th>\n",
       "      <th>high</th>\n",
       "      <th>low</th>\n",
       "      <th>close</th>\n",
       "      <th>volume</th>\n",
       "      <th>ex-dividend</th>\n",
       "      <th>split_ratio</th>\n",
       "      <th>adj_open</th>\n",
       "      <th>adj_high</th>\n",
       "      <th>adj_low</th>\n",
       "      <th>adj_close</th>\n",
       "      <th>adj_volume</th>\n",
       "    </tr>\n",
       "  </thead>\n",
       "  <tbody>\n",
       "    <tr>\n",
       "      <th>0</th>\n",
       "      <td>A</td>\n",
       "      <td>2017-05-01</td>\n",
       "      <td>55.50</td>\n",
       "      <td>55.9900</td>\n",
       "      <td>55.36</td>\n",
       "      <td>55.80</td>\n",
       "      <td>1897018.0</td>\n",
       "      <td>0.0</td>\n",
       "      <td>1.0</td>\n",
       "      <td>55.263235</td>\n",
       "      <td>55.751145</td>\n",
       "      <td>55.123833</td>\n",
       "      <td>55.561956</td>\n",
       "      <td>1897018.0</td>\n",
       "    </tr>\n",
       "    <tr>\n",
       "      <th>1</th>\n",
       "      <td>A</td>\n",
       "      <td>2017-05-02</td>\n",
       "      <td>55.85</td>\n",
       "      <td>55.9700</td>\n",
       "      <td>55.51</td>\n",
       "      <td>55.93</td>\n",
       "      <td>1673735.0</td>\n",
       "      <td>0.0</td>\n",
       "      <td>1.0</td>\n",
       "      <td>55.611742</td>\n",
       "      <td>55.731230</td>\n",
       "      <td>55.273193</td>\n",
       "      <td>55.691401</td>\n",
       "      <td>1673735.0</td>\n",
       "    </tr>\n",
       "    <tr>\n",
       "      <th>2</th>\n",
       "      <td>A</td>\n",
       "      <td>2017-05-03</td>\n",
       "      <td>55.68</td>\n",
       "      <td>56.2575</td>\n",
       "      <td>55.61</td>\n",
       "      <td>56.16</td>\n",
       "      <td>1702565.0</td>\n",
       "      <td>0.0</td>\n",
       "      <td>1.0</td>\n",
       "      <td>55.442468</td>\n",
       "      <td>56.017504</td>\n",
       "      <td>55.372766</td>\n",
       "      <td>55.920420</td>\n",
       "      <td>1702565.0</td>\n",
       "    </tr>\n",
       "    <tr>\n",
       "      <th>3</th>\n",
       "      <td>A</td>\n",
       "      <td>2017-05-04</td>\n",
       "      <td>56.20</td>\n",
       "      <td>56.7500</td>\n",
       "      <td>56.16</td>\n",
       "      <td>56.70</td>\n",
       "      <td>2609703.0</td>\n",
       "      <td>0.0</td>\n",
       "      <td>1.0</td>\n",
       "      <td>55.960249</td>\n",
       "      <td>56.507903</td>\n",
       "      <td>55.920420</td>\n",
       "      <td>56.458116</td>\n",
       "      <td>2609703.0</td>\n",
       "    </tr>\n",
       "    <tr>\n",
       "      <th>4</th>\n",
       "      <td>A</td>\n",
       "      <td>2017-05-05</td>\n",
       "      <td>56.85</td>\n",
       "      <td>56.9600</td>\n",
       "      <td>56.59</td>\n",
       "      <td>56.64</td>\n",
       "      <td>1567046.0</td>\n",
       "      <td>0.0</td>\n",
       "      <td>1.0</td>\n",
       "      <td>56.607476</td>\n",
       "      <td>56.717007</td>\n",
       "      <td>56.348585</td>\n",
       "      <td>56.398372</td>\n",
       "      <td>1567046.0</td>\n",
       "    </tr>\n",
       "  </tbody>\n",
       "</table>\n",
       "</div>"
      ],
      "text/plain": [
       "name ticker        date   open     high    low  close     volume  ex-dividend  \\\n",
       "0         A  2017-05-01  55.50  55.9900  55.36  55.80  1897018.0          0.0   \n",
       "1         A  2017-05-02  55.85  55.9700  55.51  55.93  1673735.0          0.0   \n",
       "2         A  2017-05-03  55.68  56.2575  55.61  56.16  1702565.0          0.0   \n",
       "3         A  2017-05-04  56.20  56.7500  56.16  56.70  2609703.0          0.0   \n",
       "4         A  2017-05-05  56.85  56.9600  56.59  56.64  1567046.0          0.0   \n",
       "\n",
       "name  split_ratio   adj_open   adj_high    adj_low  adj_close  adj_volume  \n",
       "0             1.0  55.263235  55.751145  55.123833  55.561956   1897018.0  \n",
       "1             1.0  55.611742  55.731230  55.273193  55.691401   1673735.0  \n",
       "2             1.0  55.442468  56.017504  55.372766  55.920420   1702565.0  \n",
       "3             1.0  55.960249  56.507903  55.920420  56.458116   2609703.0  \n",
       "4             1.0  56.607476  56.717007  56.348585  56.398372   1567046.0  "
      ]
     },
     "execution_count": 8,
     "metadata": {},
     "output_type": "execute_result"
    }
   ],
   "source": [
    "# extract data values from datatable\n",
    "df = json_normalize(j['datatable'], 'data')\n",
    "# add column names\n",
    "df.columns = col_names\n",
    "# view first couple rows\n",
    "df.head()"
   ]
  },
  {
   "cell_type": "markdown",
   "metadata": {},
   "source": [
    "View tail."
   ]
  },
  {
   "cell_type": "code",
   "execution_count": 9,
   "metadata": {},
   "outputs": [
    {
     "data": {
      "text/html": [
       "<div>\n",
       "<style>\n",
       "    .dataframe thead tr:only-child th {\n",
       "        text-align: right;\n",
       "    }\n",
       "\n",
       "    .dataframe thead th {\n",
       "        text-align: left;\n",
       "    }\n",
       "\n",
       "    .dataframe tbody tr th {\n",
       "        vertical-align: top;\n",
       "    }\n",
       "</style>\n",
       "<table border=\"1\" class=\"dataframe\">\n",
       "  <thead>\n",
       "    <tr style=\"text-align: right;\">\n",
       "      <th>name</th>\n",
       "      <th>ticker</th>\n",
       "      <th>date</th>\n",
       "      <th>open</th>\n",
       "      <th>high</th>\n",
       "      <th>low</th>\n",
       "      <th>close</th>\n",
       "      <th>volume</th>\n",
       "      <th>ex-dividend</th>\n",
       "      <th>split_ratio</th>\n",
       "      <th>adj_open</th>\n",
       "      <th>adj_high</th>\n",
       "      <th>adj_low</th>\n",
       "      <th>adj_close</th>\n",
       "      <th>adj_volume</th>\n",
       "    </tr>\n",
       "  </thead>\n",
       "  <tbody>\n",
       "    <tr>\n",
       "      <th>9995</th>\n",
       "      <td>CHGG</td>\n",
       "      <td>2017-05-12</td>\n",
       "      <td>11.62</td>\n",
       "      <td>11.71</td>\n",
       "      <td>11.390</td>\n",
       "      <td>11.53</td>\n",
       "      <td>590292.0</td>\n",
       "      <td>0.0</td>\n",
       "      <td>1.0</td>\n",
       "      <td>11.62</td>\n",
       "      <td>11.71</td>\n",
       "      <td>11.390</td>\n",
       "      <td>11.53</td>\n",
       "      <td>590292.0</td>\n",
       "    </tr>\n",
       "    <tr>\n",
       "      <th>9996</th>\n",
       "      <td>CHGG</td>\n",
       "      <td>2017-05-15</td>\n",
       "      <td>11.55</td>\n",
       "      <td>11.68</td>\n",
       "      <td>11.450</td>\n",
       "      <td>11.66</td>\n",
       "      <td>925798.0</td>\n",
       "      <td>0.0</td>\n",
       "      <td>1.0</td>\n",
       "      <td>11.55</td>\n",
       "      <td>11.68</td>\n",
       "      <td>11.450</td>\n",
       "      <td>11.66</td>\n",
       "      <td>925798.0</td>\n",
       "    </tr>\n",
       "    <tr>\n",
       "      <th>9997</th>\n",
       "      <td>CHGG</td>\n",
       "      <td>2017-05-16</td>\n",
       "      <td>11.45</td>\n",
       "      <td>11.68</td>\n",
       "      <td>11.250</td>\n",
       "      <td>11.65</td>\n",
       "      <td>1000613.0</td>\n",
       "      <td>0.0</td>\n",
       "      <td>1.0</td>\n",
       "      <td>11.45</td>\n",
       "      <td>11.68</td>\n",
       "      <td>11.250</td>\n",
       "      <td>11.65</td>\n",
       "      <td>1000613.0</td>\n",
       "    </tr>\n",
       "    <tr>\n",
       "      <th>9998</th>\n",
       "      <td>CHGG</td>\n",
       "      <td>2017-05-17</td>\n",
       "      <td>11.71</td>\n",
       "      <td>11.71</td>\n",
       "      <td>11.440</td>\n",
       "      <td>11.49</td>\n",
       "      <td>870489.0</td>\n",
       "      <td>0.0</td>\n",
       "      <td>1.0</td>\n",
       "      <td>11.71</td>\n",
       "      <td>11.71</td>\n",
       "      <td>11.440</td>\n",
       "      <td>11.49</td>\n",
       "      <td>870489.0</td>\n",
       "    </tr>\n",
       "    <tr>\n",
       "      <th>9999</th>\n",
       "      <td>CHGG</td>\n",
       "      <td>2017-05-18</td>\n",
       "      <td>11.41</td>\n",
       "      <td>11.55</td>\n",
       "      <td>11.265</td>\n",
       "      <td>11.54</td>\n",
       "      <td>780455.0</td>\n",
       "      <td>0.0</td>\n",
       "      <td>1.0</td>\n",
       "      <td>11.41</td>\n",
       "      <td>11.55</td>\n",
       "      <td>11.265</td>\n",
       "      <td>11.54</td>\n",
       "      <td>780455.0</td>\n",
       "    </tr>\n",
       "  </tbody>\n",
       "</table>\n",
       "</div>"
      ],
      "text/plain": [
       "name ticker        date   open   high     low  close     volume  ex-dividend  \\\n",
       "9995   CHGG  2017-05-12  11.62  11.71  11.390  11.53   590292.0          0.0   \n",
       "9996   CHGG  2017-05-15  11.55  11.68  11.450  11.66   925798.0          0.0   \n",
       "9997   CHGG  2017-05-16  11.45  11.68  11.250  11.65  1000613.0          0.0   \n",
       "9998   CHGG  2017-05-17  11.71  11.71  11.440  11.49   870489.0          0.0   \n",
       "9999   CHGG  2017-05-18  11.41  11.55  11.265  11.54   780455.0          0.0   \n",
       "\n",
       "name  split_ratio  adj_open  adj_high  adj_low  adj_close  adj_volume  \n",
       "9995          1.0     11.62     11.71   11.390      11.53    590292.0  \n",
       "9996          1.0     11.55     11.68   11.450      11.66    925798.0  \n",
       "9997          1.0     11.45     11.68   11.250      11.65   1000613.0  \n",
       "9998          1.0     11.71     11.71   11.440      11.49    870489.0  \n",
       "9999          1.0     11.41     11.55   11.265      11.54    780455.0  "
      ]
     },
     "execution_count": 9,
     "metadata": {},
     "output_type": "execute_result"
    }
   ],
   "source": [
    "df.tail()"
   ]
  },
  {
   "cell_type": "markdown",
   "metadata": {},
   "source": [
    "Saving CSV file for bokeh plot and heroku app."
   ]
  },
  {
   "cell_type": "code",
   "execution_count": 10,
   "metadata": {
    "collapsed": true
   },
   "outputs": [],
   "source": [
    "df.to_csv('./data/wiki_stock_price.csv', sep=',')"
   ]
  }
 ],
 "metadata": {
  "kernelspec": {
   "display_name": "Python 2",
   "language": "python",
   "name": "python2"
  },
  "language_info": {
   "codemirror_mode": {
    "name": "ipython",
    "version": 2
   },
   "file_extension": ".py",
   "mimetype": "text/x-python",
   "name": "python",
   "nbconvert_exporter": "python",
   "pygments_lexer": "ipython2",
   "version": "2.7.15"
  },
  "latex_envs": {
   "LaTeX_envs_menu_present": true,
   "autoclose": false,
   "autocomplete": true,
   "bibliofile": "biblio.bib",
   "cite_by": "apalike",
   "current_citInitial": 1,
   "eqLabelWithNumbers": true,
   "eqNumInitial": 1,
   "hotkeys": {
    "equation": "Ctrl-E",
    "itemize": "Ctrl-I"
   },
   "labels_anchors": false,
   "latex_user_defs": false,
   "report_style_numbering": false,
   "user_envs_cfg": false
  },
  "varInspector": {
   "cols": {
    "lenName": 16,
    "lenType": 16,
    "lenVar": 40
   },
   "kernels_config": {
    "python": {
     "delete_cmd_postfix": "",
     "delete_cmd_prefix": "del ",
     "library": "var_list.py",
     "varRefreshCmd": "print(var_dic_list())"
    },
    "r": {
     "delete_cmd_postfix": ") ",
     "delete_cmd_prefix": "rm(",
     "library": "var_list.r",
     "varRefreshCmd": "cat(var_dic_list()) "
    }
   },
   "types_to_exclude": [
    "module",
    "function",
    "builtin_function_or_method",
    "instance",
    "_Feature"
   ],
   "window_display": false
  }
 },
 "nbformat": 4,
 "nbformat_minor": 2
}
